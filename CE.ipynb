{
 "cells": [
  {
   "cell_type": "code",
   "execution_count": null,
   "id": "d0572cee",
   "metadata": {},
   "outputs": [],
   "source": [
    "cfg = {}"
   ]
  }
 ],
 "metadata": {
  "language_info": {
   "name": "python"
  }
 },
 "nbformat": 4,
 "nbformat_minor": 5
}
