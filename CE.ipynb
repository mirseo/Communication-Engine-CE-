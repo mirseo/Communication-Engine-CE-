{
 "cells": [
  {
   "cell_type": "code",
   "execution_count": null,
   "id": "d0572cee",
   "metadata": {},
   "outputs": [],
   "source": [
    "# import sections\n",
    "import os\n",
    "import uuid"
   ]
  },
  {
   "cell_type": "code",
   "execution_count": 15,
   "id": "f047c79e",
   "metadata": {},
   "outputs": [],
   "source": [
    "# synapse storage\n",
    "synapses = []\n",
    "fitting_for_user_synapse = []\n",
    "\n",
    "bad_synapse = []\n",
    "good_synapse = []"
   ]
  },
  {
   "cell_type": "code",
   "execution_count": null,
   "id": "5903a2dc",
   "metadata": {},
   "outputs": [
    {
     "name": "stdout",
     "output_type": "stream",
     "text": [
      "{'synapse_id': '3aad581d8127401dba8c8aedd587b71d', 'synapse_pattern': []}\n"
     ]
    }
   ],
   "source": [
    "# synapse structure\n",
    "# base synapse core\n",
    "\n",
    "SYN_ID = uuid.uuid4().hex\n",
    "\n",
    "data = {\n",
    "    'synapse_id' : SYN_ID,\n",
    "    'synapse_pattern': [],\n",
    "    'synapse_text': '',\n",
    "}\n",
    "\n",
    "# 구조\n",
    "# 시냅스 ID : 시냅스 고유 UUID\n",
    "# 시냅스 패턴 : 시냅스가 일치하는 패턴, 즉 이전 셀에 대한 데이터 출력용 AND연산 수행\n",
    "# 시냅스 텍스트 : 시냅스 출력 텍스트\n",
    "# SYNAPSE LLM : AND 연산된 결과로 유효한(이어지는) 텍스트인지 판단 후 매우 짧은 텍스트 생성 (100토큰 이내)\n",
    "\n",
    "synapses.append(data)\n",
    "\n",
    "print(data)"
   ]
  },
  {
   "cell_type": "code",
   "execution_count": 17,
   "id": "58d59787",
   "metadata": {},
   "outputs": [
    {
     "name": "stdout",
     "output_type": "stream",
     "text": [
      "[{'synapse_id': '3aad581d8127401dba8c8aedd587b71d', 'synapse_pattern': []}]\n"
     ]
    }
   ],
   "source": [
    "\n",
    "print(synapses)"
   ]
  },
  {
   "cell_type": "code",
   "execution_count": null,
   "id": "30030fe3",
   "metadata": {},
   "outputs": [],
   "source": [
    "# BIT REACTOR\n",
    "# 안녕하세요 <- 이 텍스트의 임베딩 (8자리 2진수)\n",
    "\n",
    "binary_out = []\n",
    "\n",
    "# 부정/긍정 (1번 자리)\n",
    "binary_out.append(1)  # 긍정\n",
    "# binary_out.append(0)  # 부정\n",
    "\n",
    "# 이어지는 데이터 여부 (다음 시냅스 여부) [2]\n",
    "# binary_out.append(1)  # 이어지는 데이터 있음\n",
    "binary_out.append(0)  # 이어지는 데이터 없음\n",
    "\n",
    "# 질문/답변 여부 [3]\n",
    "# binary_out.append(1)  # 질문\n",
    "binary_out.append(0)  # 답변\n",
    "\n",
    "# 시냅스 데이터 [4~6]\n",
    "# [4] 데이터베이스 단어 번호\n",
    "\n"
   ]
  }
 ],
 "metadata": {
  "kernelspec": {
   "display_name": "Python 3",
   "language": "python",
   "name": "python3"
  },
  "language_info": {
   "codemirror_mode": {
    "name": "ipython",
    "version": 3
   },
   "file_extension": ".py",
   "mimetype": "text/x-python",
   "name": "python",
   "nbconvert_exporter": "python",
   "pygments_lexer": "ipython3",
   "version": "3.12.1"
  }
 },
 "nbformat": 4,
 "nbformat_minor": 5
}
