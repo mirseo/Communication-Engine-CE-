{
 "cells": [
  {
   "cell_type": "code",
   "execution_count": null,
   "id": "d0572cee",
   "metadata": {},
   "outputs": [],
   "source": [
    "# import sections\n",
    "import os\n",
    "import uuid"
   ]
  },
  {
   "cell_type": "code",
   "execution_count": 15,
   "id": "f047c79e",
   "metadata": {},
   "outputs": [],
   "source": [
    "# synapse storage\n",
    "synapses = []\n",
    "fitting_for_user_synapse = []\n",
    "\n",
    "bad_synapse = []\n",
    "good_synapse = []"
   ]
  },
  {
   "cell_type": "code",
   "execution_count": null,
   "id": "5903a2dc",
   "metadata": {},
   "outputs": [
    {
     "name": "stdout",
     "output_type": "stream",
     "text": [
      "{'synapse_id': '3aad581d8127401dba8c8aedd587b71d', 'synapse_pattern': []}\n"
     ]
    }
   ],
   "source": [
    "# synapse structure\n",
    "# base synapse core\n",
    "\n",
    "SYN_ID = uuid.uuid4().hex\n",
    "\n",
    "data = {\n",
    "    'synapse_id' : SYN_ID,\n",
    "    'synapse_pattern': [],\n",
    "    'synapse_text': '',\n",
    "}\n",
    "\n",
    "# 구조\n",
    "# 시냅스 ID : 시냅스 고유 UUID\n",
    "# 시냅스 패턴 : 시냅스가 일치하는 패턴, 즉 이전 셀에 대한 데이터 출력용 AND연산 수행\n",
    "# 시냅스 텍스트 : 시냅스 출력 텍스트\n",
    "# SYNAPSE LLM : AND 연산된 결과로 유효한(이어지는) 텍스트인지 판단 후 매우 짧은 텍스트 생성 (100토큰 이내)\n",
    "\n",
    "synapses.append(data)\n",
    "\n",
    "print(data)"
   ]
  },
  {
   "cell_type": "code",
   "execution_count": 17,
   "id": "58d59787",
   "metadata": {},
   "outputs": [
    {
     "name": "stdout",
     "output_type": "stream",
     "text": [
      "[{'synapse_id': '3aad581d8127401dba8c8aedd587b71d', 'synapse_pattern': []}]\n"
     ]
    }
   ],
   "source": [
    "\n",
    "print(synapses)"
   ]
  },
  {
   "cell_type": "code",
   "execution_count": null,
   "id": "bfc63796",
   "metadata": {},
   "outputs": [
    {
     "ename": "TypeError",
     "evalue": "'module' object is not callable",
     "output_type": "error",
     "traceback": [
      "\u001b[31m---------------------------------------------------------------------------\u001b[39m",
      "\u001b[31mTypeError\u001b[39m                                 Traceback (most recent call last)",
      "\u001b[36mCell\u001b[39m\u001b[36m \u001b[39m\u001b[32mIn[18]\u001b[39m\u001b[32m, line 3\u001b[39m\n\u001b[32m      1\u001b[39m \u001b[38;5;28;01mimport\u001b[39;00m\u001b[38;5;250m \u001b[39m\u001b[34;01mnumpy\u001b[39;00m\u001b[38;5;250m \u001b[39m\u001b[38;5;28;01mas\u001b[39;00m\u001b[38;5;250m \u001b[39m\u001b[34;01mnp\u001b[39;00m\n\u001b[32m----> \u001b[39m\u001b[32m3\u001b[39m np.array(\u001b[43mnp\u001b[49m\u001b[43m.\u001b[49m\u001b[43mrandom\u001b[49m\u001b[43m(\u001b[49m\u001b[43msize\u001b[49m\u001b[43m=\u001b[49m\u001b[43m(\u001b[49m\u001b[32;43m10\u001b[39;49m\u001b[43m,\u001b[49m\u001b[43m \u001b[49m\u001b[32;43m10\u001b[39;49m\u001b[43m)\u001b[49m\u001b[43m)\u001b[49m)\n",
      "\u001b[31mTypeError\u001b[39m: 'module' object is not callable"
     ]
    }
   ],
   "source": []
  }
 ],
 "metadata": {
  "kernelspec": {
   "display_name": "Python 3",
   "language": "python",
   "name": "python3"
  },
  "language_info": {
   "codemirror_mode": {
    "name": "ipython",
    "version": 3
   },
   "file_extension": ".py",
   "mimetype": "text/x-python",
   "name": "python",
   "nbconvert_exporter": "python",
   "pygments_lexer": "ipython3",
   "version": "3.12.1"
  }
 },
 "nbformat": 4,
 "nbformat_minor": 5
}
